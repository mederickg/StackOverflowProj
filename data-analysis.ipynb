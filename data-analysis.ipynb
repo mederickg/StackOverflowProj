{
 "cells": [
  {
   "cell_type": "code",
   "execution_count": 6,
   "metadata": {},
   "outputs": [],
   "source": [
    "import pandas as pd"
   ]
  },
  {
   "cell_type": "code",
<<<<<<< HEAD
   "execution_count": 3,
=======
   "execution_count": 7,
>>>>>>> 51be9fbf412d0c7019933d8b6b624e376b5f21d2
   "metadata": {},
   "outputs": [],
   "source": [
    "users_df = pd.read_csv(\"data/Users.csv\")\n",
    "comments_df = pd.read_csv(\"data/Comments.csv\")\n",
    "postHistory_df = pd.read_csv(\"data/PostHistory.csv\")\n",
    "badges_df = pd.read_csv(\"data/Badges.csv\")\n",
    "\n",
    "# clean users_df\n",
    "users_df.drop([\"Location\", \"Views\", \"UpVotes\", \"WebsiteUrl\", \"EmailHash\", \"AboutMe\", \"DownVotes\", \"ProfileImageUrl\"], inplace=True, axis=1)\n",
    "\n",
    "# num posts\n",
    "numPosts_df = postHistory_df.groupby(\"UserId\").size()\n",
    "\n",
    "# add in numPosts to each user\n",
    "for id, numPosts in numPosts_df.items():\n",
    "    if id == \"UserId\": continue\n",
    "    id = int(id)\n",
    "    users_df.loc[users_df[\"Id\"] == id, \"NumPosts\"] = numPosts\n"
   ]
  },
  {
   "cell_type": "code",
<<<<<<< HEAD
   "execution_count": 4,
=======
   "execution_count": 8,
>>>>>>> 51be9fbf412d0c7019933d8b6b624e376b5f21d2
   "metadata": {},
   "outputs": [
    {
     "data": {
      "text/html": [
       "<div>\n",
       "<style scoped>\n",
       "    .dataframe tbody tr th:only-of-type {\n",
       "        vertical-align: middle;\n",
       "    }\n",
       "\n",
       "    .dataframe tbody tr th {\n",
       "        vertical-align: top;\n",
       "    }\n",
       "\n",
       "    .dataframe thead th {\n",
       "        text-align: right;\n",
       "    }\n",
       "</style>\n",
       "<table border=\"1\" class=\"dataframe\">\n",
       "  <thead>\n",
       "    <tr style=\"text-align: right;\">\n",
       "      <th></th>\n",
       "      <th>Id</th>\n",
       "      <th>Reputation</th>\n",
       "      <th>CreationDate</th>\n",
       "      <th>DisplayName</th>\n",
       "      <th>LastAccessDate</th>\n",
       "      <th>AccountId</th>\n",
       "      <th>NumPosts</th>\n",
       "    </tr>\n",
       "  </thead>\n",
       "  <tbody>\n",
       "    <tr>\n",
       "      <th>0</th>\n",
       "      <td>237137</td>\n",
       "      <td>36</td>\n",
       "      <td>1261512223193</td>\n",
       "      <td>davrous</td>\n",
       "      <td>1262209129173</td>\n",
       "      <td>580584</td>\n",
       "      <td>1.0</td>\n",
       "    </tr>\n",
       "    <tr>\n",
       "      <th>1</th>\n",
       "      <td>907595</td>\n",
       "      <td>13</td>\n",
       "      <td>1314098270493</td>\n",
       "      <td>René</td>\n",
       "      <td>1316454773330</td>\n",
       "      <td>799199</td>\n",
       "      <td>6.0</td>\n",
       "    </tr>\n",
       "    <tr>\n",
       "      <th>2</th>\n",
       "      <td>1869230</td>\n",
       "      <td>435</td>\n",
       "      <td>1354389119783</td>\n",
       "      <td>dan1</td>\n",
       "      <td>1533455867923</td>\n",
       "      <td>2101798</td>\n",
       "      <td>13.0</td>\n",
       "    </tr>\n",
       "    <tr>\n",
       "      <th>3</th>\n",
       "      <td>1861431</td>\n",
       "      <td>75</td>\n",
       "      <td>1354139880027</td>\n",
       "      <td>Bryan</td>\n",
       "      <td>1426906926187</td>\n",
       "      <td>2091763</td>\n",
       "      <td>27.0</td>\n",
       "    </tr>\n",
       "    <tr>\n",
       "      <th>4</th>\n",
       "      <td>1858121</td>\n",
       "      <td>11</td>\n",
       "      <td>1354057590997</td>\n",
       "      <td>RubenatoR</td>\n",
       "      <td>1372184147920</td>\n",
       "      <td>2087541</td>\n",
       "      <td>3.0</td>\n",
       "    </tr>\n",
       "    <tr>\n",
       "      <th>5</th>\n",
       "      <td>1853324</td>\n",
       "      <td>9</td>\n",
       "      <td>1353932012327</td>\n",
       "      <td>d2h</td>\n",
       "      <td>1364545684757</td>\n",
       "      <td>2081415</td>\n",
       "      <td>3.0</td>\n",
       "    </tr>\n",
       "    <tr>\n",
       "      <th>6</th>\n",
       "      <td>1846334</td>\n",
       "      <td>141</td>\n",
       "      <td>1353631826510</td>\n",
       "      <td>Lewis Boyles-White</td>\n",
       "      <td>1514998297073</td>\n",
       "      <td>2072099</td>\n",
       "      <td>41.0</td>\n",
       "    </tr>\n",
       "    <tr>\n",
       "      <th>7</th>\n",
       "      <td>1836532</td>\n",
       "      <td>21</td>\n",
       "      <td>1353345932493</td>\n",
       "      <td>Mohsen Alizadeh</td>\n",
       "      <td>1551785455310</td>\n",
       "      <td>2059610</td>\n",
       "      <td>14.0</td>\n",
       "    </tr>\n",
       "    <tr>\n",
       "      <th>8</th>\n",
       "      <td>1966854</td>\n",
       "      <td>3</td>\n",
       "      <td>1357824395260</td>\n",
       "      <td>labworxsa</td>\n",
       "      <td>1607685254290</td>\n",
       "      <td>2228670</td>\n",
       "      <td>5.0</td>\n",
       "    </tr>\n",
       "    <tr>\n",
       "      <th>9</th>\n",
       "      <td>1833626</td>\n",
       "      <td>21</td>\n",
       "      <td>1353247966420</td>\n",
       "      <td>Almar Klein</td>\n",
       "      <td>1353267074797</td>\n",
       "      <td>2055834</td>\n",
       "      <td>1.0</td>\n",
       "    </tr>\n",
       "  </tbody>\n",
       "</table>\n",
       "</div>"
      ],
      "text/plain": [
       "        Id  Reputation   CreationDate         DisplayName  LastAccessDate  \\\n",
       "0   237137          36  1261512223193             davrous   1262209129173   \n",
       "1   907595          13  1314098270493                René   1316454773330   \n",
       "2  1869230         435  1354389119783                dan1   1533455867923   \n",
       "3  1861431          75  1354139880027               Bryan   1426906926187   \n",
       "4  1858121          11  1354057590997           RubenatoR   1372184147920   \n",
       "5  1853324           9  1353932012327                 d2h   1364545684757   \n",
       "6  1846334         141  1353631826510  Lewis Boyles-White   1514998297073   \n",
       "7  1836532          21  1353345932493     Mohsen Alizadeh   1551785455310   \n",
       "8  1966854           3  1357824395260           labworxsa   1607685254290   \n",
       "9  1833626          21  1353247966420         Almar Klein   1353267074797   \n",
       "\n",
       "   AccountId  NumPosts  \n",
       "0     580584       1.0  \n",
       "1     799199       6.0  \n",
       "2    2101798      13.0  \n",
       "3    2091763      27.0  \n",
       "4    2087541       3.0  \n",
       "5    2081415       3.0  \n",
       "6    2072099      41.0  \n",
       "7    2059610      14.0  \n",
       "8    2228670       5.0  \n",
       "9    2055834       1.0  "
      ]
     },
<<<<<<< HEAD
     "execution_count": 4,
=======
     "execution_count": 8,
>>>>>>> 51be9fbf412d0c7019933d8b6b624e376b5f21d2
     "metadata": {},
     "output_type": "execute_result"
    }
   ],
   "source": [
    "users_df.head(10)"
   ]
  },
  {
   "cell_type": "code",
<<<<<<< HEAD
   "execution_count": 5,
=======
   "execution_count": 9,
>>>>>>> 51be9fbf412d0c7019933d8b6b624e376b5f21d2
   "metadata": {},
   "outputs": [
    {
     "name": "stdout",
     "output_type": "stream",
     "text": [
      "Average Sample Reputation: 236.14\n"
     ]
    }
   ],
   "source": [
    "reps = 0\n",
    "for user in users_df.iterrows():\n",
    "    reps += user[1]['Reputation']\n",
    "\n",
    "avg_sample_rep = reps/users_df.shape[0]    \n",
    "\n",
    "print(f\"Average Sample Reputation: {round(avg_sample_rep, 2)}\")"
   ]
  },
  {
   "cell_type": "code",
<<<<<<< HEAD
   "execution_count": 6,
   "metadata": {},
   "outputs": [
    {
     "name": "stdout",
     "output_type": "stream",
     "text": [
      "<class 'pandas.core.frame.DataFrame'>\n",
      "RangeIndex: 58628 entries, 0 to 58627\n",
      "Data columns (total 10 columns):\n",
      " #   Column             Non-Null Count  Dtype \n",
      "---  ------             --------------  ----- \n",
      " 0   Id                 58628 non-null  object\n",
      " 1   PostHistoryTypeId  58628 non-null  object\n",
      " 2   PostId             58628 non-null  object\n",
      " 3   RevisionGUID       58628 non-null  object\n",
      " 4   CreationDate       58628 non-null  object\n",
      " 5   UserId             58628 non-null  object\n",
      " 6   UserDisplayName    26 non-null     object\n",
      " 7   Comment            17170 non-null  object\n",
      " 8   Text               58303 non-null  object\n",
      " 9   ContentLicense     57810 non-null  object\n",
      "dtypes: object(10)\n",
      "memory usage: 4.5+ MB\n"
     ]
    }
   ],
   "source": [
    "postHistory_df.info()"
=======
   "execution_count": 10,
   "metadata": {},
   "outputs": [
    {
     "data": {
      "text/plain": [
       "2500"
      ]
     },
     "execution_count": 10,
     "metadata": {},
     "output_type": "execute_result"
    }
   ],
   "source": [
    "len(users_df.index)"
   ]
  },
  {
   "cell_type": "code",
   "execution_count": 11,
   "metadata": {},
   "outputs": [
    {
     "data": {
      "image/png": "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",
      "text/plain": [
       "<Figure size 640x480 with 1 Axes>"
      ]
     },
     "metadata": {},
     "output_type": "display_data"
    }
   ],
   "source": [
    "import pandas as pd\n",
    "from sklearn.cluster import KMeans\n",
    "import matplotlib.pyplot as plt\n",
    "\n",
    "X = users_df[[\"Reputation\", \"NumPosts\"]].values\n",
    "\n",
    "\n",
    "wcss = []\n",
    "for i in range(1, 11):\n",
    "    kmeans = KMeans(n_clusters=i, init='k-means++', max_iter=300, n_init=10, random_state=0)\n",
    "    kmeans.fit(X)\n",
    "    wcss.append(kmeans.inertia_)\n",
    "plt.plot(range(1, 11), wcss)\n",
    "plt.title('Elbow Method')\n",
    "plt.xlabel('Number of clusters')\n",
    "plt.ylabel('WCSS')\n",
    "plt.show()"
   ]
  },
  {
   "cell_type": "code",
   "execution_count": 40,
   "metadata": {},
   "outputs": [
    {
     "name": "stderr",
     "output_type": "stream",
     "text": [
      "/opt/homebrew/Caskroom/miniconda/base/lib/python3.10/site-packages/sklearn/cluster/_kmeans.py:870: FutureWarning: The default value of `n_init` will change from 10 to 'auto' in 1.4. Set the value of `n_init` explicitly to suppress the warning\n",
      "  warnings.warn(\n"
     ]
    },
    {
     "data": {
      "image/png": "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",
      "text/plain": [
       "<Figure size 640x480 with 1 Axes>"
      ]
     },
     "metadata": {},
     "output_type": "display_data"
    },
    {
     "data": {
      "text/html": [
       "<div>\n",
       "<style scoped>\n",
       "    .dataframe tbody tr th:only-of-type {\n",
       "        vertical-align: middle;\n",
       "    }\n",
       "\n",
       "    .dataframe tbody tr th {\n",
       "        vertical-align: top;\n",
       "    }\n",
       "\n",
       "    .dataframe thead th {\n",
       "        text-align: right;\n",
       "    }\n",
       "</style>\n",
       "<table border=\"1\" class=\"dataframe\">\n",
       "  <thead>\n",
       "    <tr style=\"text-align: right;\">\n",
       "      <th></th>\n",
       "      <th>Reputation</th>\n",
       "      <th>NumPosts</th>\n",
       "    </tr>\n",
       "  </thead>\n",
       "  <tbody>\n",
       "    <tr>\n",
       "      <th>3</th>\n",
       "      <td>15.490794</td>\n",
       "      <td>6.199895</td>\n",
       "    </tr>\n",
       "    <tr>\n",
       "      <th>10</th>\n",
       "      <td>126.551613</td>\n",
       "      <td>22.554839</td>\n",
       "    </tr>\n",
       "    <tr>\n",
       "      <th>13</th>\n",
       "      <td>388.626984</td>\n",
       "      <td>42.992063</td>\n",
       "    </tr>\n",
       "    <tr>\n",
       "      <th>0</th>\n",
       "      <td>692.771930</td>\n",
       "      <td>51.403509</td>\n",
       "    </tr>\n",
       "    <tr>\n",
       "      <th>9</th>\n",
       "      <td>1097.575000</td>\n",
       "      <td>100.550000</td>\n",
       "    </tr>\n",
       "    <tr>\n",
       "      <th>15</th>\n",
       "      <td>1675.600000</td>\n",
       "      <td>131.800000</td>\n",
       "    </tr>\n",
       "    <tr>\n",
       "      <th>4</th>\n",
       "      <td>2450.769231</td>\n",
       "      <td>175.230769</td>\n",
       "    </tr>\n",
       "    <tr>\n",
       "      <th>8</th>\n",
       "      <td>3081.571429</td>\n",
       "      <td>526.000000</td>\n",
       "    </tr>\n",
       "    <tr>\n",
       "      <th>12</th>\n",
       "      <td>3568.300000</td>\n",
       "      <td>117.200000</td>\n",
       "    </tr>\n",
       "    <tr>\n",
       "      <th>14</th>\n",
       "      <td>6313.000000</td>\n",
       "      <td>401.250000</td>\n",
       "    </tr>\n",
       "    <tr>\n",
       "      <th>6</th>\n",
       "      <td>7274.500000</td>\n",
       "      <td>262.000000</td>\n",
       "    </tr>\n",
       "    <tr>\n",
       "      <th>11</th>\n",
       "      <td>9551.000000</td>\n",
       "      <td>886.000000</td>\n",
       "    </tr>\n",
       "    <tr>\n",
       "      <th>16</th>\n",
       "      <td>10900.000000</td>\n",
       "      <td>250.500000</td>\n",
       "    </tr>\n",
       "    <tr>\n",
       "      <th>2</th>\n",
       "      <td>12673.000000</td>\n",
       "      <td>497.500000</td>\n",
       "    </tr>\n",
       "    <tr>\n",
       "      <th>17</th>\n",
       "      <td>18127.000000</td>\n",
       "      <td>2562.000000</td>\n",
       "    </tr>\n",
       "    <tr>\n",
       "      <th>5</th>\n",
       "      <td>19610.000000</td>\n",
       "      <td>1970.000000</td>\n",
       "    </tr>\n",
       "    <tr>\n",
       "      <th>7</th>\n",
       "      <td>58757.000000</td>\n",
       "      <td>2376.000000</td>\n",
       "    </tr>\n",
       "    <tr>\n",
       "      <th>1</th>\n",
       "      <td>64147.000000</td>\n",
       "      <td>5389.000000</td>\n",
       "    </tr>\n",
       "  </tbody>\n",
       "</table>\n",
       "</div>"
      ],
      "text/plain": [
       "      Reputation     NumPosts\n",
       "3      15.490794     6.199895\n",
       "10    126.551613    22.554839\n",
       "13    388.626984    42.992063\n",
       "0     692.771930    51.403509\n",
       "9    1097.575000   100.550000\n",
       "15   1675.600000   131.800000\n",
       "4    2450.769231   175.230769\n",
       "8    3081.571429   526.000000\n",
       "12   3568.300000   117.200000\n",
       "14   6313.000000   401.250000\n",
       "6    7274.500000   262.000000\n",
       "11   9551.000000   886.000000\n",
       "16  10900.000000   250.500000\n",
       "2   12673.000000   497.500000\n",
       "17  18127.000000  2562.000000\n",
       "5   19610.000000  1970.000000\n",
       "7   58757.000000  2376.000000\n",
       "1   64147.000000  5389.000000"
      ]
     },
     "execution_count": 40,
     "metadata": {},
     "output_type": "execute_result"
    }
   ],
   "source": [
    "from sklearn.cluster import KMeans\n",
    "import matplotlib.pyplot as plt\n",
    "\n",
    "# k-means with reputation and numposts\n",
    "data = users_df[['Reputation', 'NumPosts']].values\n",
    "\n",
    "kmeans = KMeans(n_clusters=18)\n",
    "kmeans.fit(data)\n",
    "\n",
    "labels = kmeans.labels_\n",
    "users_df['Cluster'] = labels\n",
    "\n",
    "labels = kmeans.labels_\n",
    "centers = kmeans.cluster_centers_\n",
    "\n",
    "# scatter plot dis bih\n",
    "plt.scatter(data[:, 0], data[:, 1], c=labels)\n",
    "\n",
    "# plot center of each group\n",
    "plt.scatter(centers[:, 0], centers[:, 1], marker='+', s=25, color='red')\n",
    "\n",
    "plt.xlabel('Reputation')\n",
    "plt.ylabel('NumPosts')\n",
    "plt.show()\n",
    "\n",
    "\n",
    "analysis_df = pd.DataFrame(columns=[\"Reputation\", \"NumPosts\"])\n",
    "\n",
    "for label in set(labels):\n",
    "    cluster = users_df[users_df['Cluster'] == label]\n",
    "    new_row = pd.DataFrame([{'Reputation': cluster[\"Reputation\"].mean(), 'NumPosts': cluster[\"NumPosts\"].mean()}])\n",
    "    analysis_df = pd.concat([analysis_df, new_row], ignore_index=True)\n",
    "\n",
    "analysis_df.sort_values(\"Reputation\", ascending=True).head(20)\n"
>>>>>>> 51be9fbf412d0c7019933d8b6b624e376b5f21d2
   ]
  }
 ],
 "metadata": {
  "kernelspec": {
   "display_name": "base",
   "language": "python",
   "name": "python3"
  },
  "language_info": {
   "codemirror_mode": {
    "name": "ipython",
    "version": 3
   },
   "file_extension": ".py",
   "mimetype": "text/x-python",
   "name": "python",
   "nbconvert_exporter": "python",
   "pygments_lexer": "ipython3",
   "version": "3.10.9"
  },
  "orig_nbformat": 4
 },
 "nbformat": 4,
 "nbformat_minor": 2
}
