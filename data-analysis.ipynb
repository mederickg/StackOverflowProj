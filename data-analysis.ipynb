{
 "cells": [
  {
   "cell_type": "code",
   "execution_count": 1,
   "metadata": {},
   "outputs": [],
   "source": [
    "import pandas as pd"
   ]
  },
  {
   "cell_type": "code",
   "execution_count": 2,
   "metadata": {},
   "outputs": [],
   "source": [
    "users_df = pd.read_csv(\"data/Users.csv\")\n",
    "comments_df = pd.read_csv(\"data/Comments.csv\")\n",
    "postHistory_df = pd.read_csv(\"data/PostHistory.csv\")\n",
    "badges_df = pd.read_csv(\"data/Badges.csv\")\n",
    "\n",
    "# clean users_df\n",
    "users_df.drop([\"Location\", \"Views\", \"UpVotes\", \"WebsiteUrl\", \"EmailHash\", \"AboutMe\", \"DownVotes\", \"ProfileImageUrl\"], inplace=True, axis=1)\n",
    "\n",
    "# num posts\n",
    "numPosts_df = postHistory_df.groupby(\"UserId\").size()\n",
    "\n",
    "# add in numPosts to each user\n",
    "for id, numPosts in numPosts_df.items():\n",
    "    if id == \"UserId\": continue\n",
    "    id = int(id)\n",
    "    users_df.loc[users_df[\"Id\"] == id, \"NumPosts\"] = numPosts\n"
   ]
  },
  {
   "cell_type": "code",
   "execution_count": 3,
   "metadata": {},
   "outputs": [
    {
     "data": {
      "text/html": [
       "<div>\n",
       "<style scoped>\n",
       "    .dataframe tbody tr th:only-of-type {\n",
       "        vertical-align: middle;\n",
       "    }\n",
       "\n",
       "    .dataframe tbody tr th {\n",
       "        vertical-align: top;\n",
       "    }\n",
       "\n",
       "    .dataframe thead th {\n",
       "        text-align: right;\n",
       "    }\n",
       "</style>\n",
       "<table border=\"1\" class=\"dataframe\">\n",
       "  <thead>\n",
       "    <tr style=\"text-align: right;\">\n",
       "      <th></th>\n",
       "      <th>Id</th>\n",
       "      <th>Reputation</th>\n",
       "      <th>CreationDate</th>\n",
       "      <th>DisplayName</th>\n",
       "      <th>LastAccessDate</th>\n",
       "      <th>AccountId</th>\n",
       "      <th>NumPosts</th>\n",
       "    </tr>\n",
       "  </thead>\n",
       "  <tbody>\n",
       "    <tr>\n",
       "      <th>0</th>\n",
       "      <td>237137</td>\n",
       "      <td>36</td>\n",
       "      <td>1261512223193</td>\n",
       "      <td>davrous</td>\n",
       "      <td>1262209129173</td>\n",
       "      <td>580584</td>\n",
       "      <td>1.0</td>\n",
       "    </tr>\n",
       "    <tr>\n",
       "      <th>1</th>\n",
       "      <td>907595</td>\n",
       "      <td>13</td>\n",
       "      <td>1314098270493</td>\n",
       "      <td>René</td>\n",
       "      <td>1316454773330</td>\n",
       "      <td>799199</td>\n",
       "      <td>6.0</td>\n",
       "    </tr>\n",
       "    <tr>\n",
       "      <th>2</th>\n",
       "      <td>1869230</td>\n",
       "      <td>435</td>\n",
       "      <td>1354389119783</td>\n",
       "      <td>dan1</td>\n",
       "      <td>1533455867923</td>\n",
       "      <td>2101798</td>\n",
       "      <td>13.0</td>\n",
       "    </tr>\n",
       "    <tr>\n",
       "      <th>3</th>\n",
       "      <td>1861431</td>\n",
       "      <td>75</td>\n",
       "      <td>1354139880027</td>\n",
       "      <td>Bryan</td>\n",
       "      <td>1426906926187</td>\n",
       "      <td>2091763</td>\n",
       "      <td>27.0</td>\n",
       "    </tr>\n",
       "    <tr>\n",
       "      <th>4</th>\n",
       "      <td>1858121</td>\n",
       "      <td>11</td>\n",
       "      <td>1354057590997</td>\n",
       "      <td>RubenatoR</td>\n",
       "      <td>1372184147920</td>\n",
       "      <td>2087541</td>\n",
       "      <td>3.0</td>\n",
       "    </tr>\n",
       "    <tr>\n",
       "      <th>5</th>\n",
       "      <td>1853324</td>\n",
       "      <td>9</td>\n",
       "      <td>1353932012327</td>\n",
       "      <td>d2h</td>\n",
       "      <td>1364545684757</td>\n",
       "      <td>2081415</td>\n",
       "      <td>3.0</td>\n",
       "    </tr>\n",
       "    <tr>\n",
       "      <th>6</th>\n",
       "      <td>1846334</td>\n",
       "      <td>141</td>\n",
       "      <td>1353631826510</td>\n",
       "      <td>Lewis Boyles-White</td>\n",
       "      <td>1514998297073</td>\n",
       "      <td>2072099</td>\n",
       "      <td>41.0</td>\n",
       "    </tr>\n",
       "    <tr>\n",
       "      <th>7</th>\n",
       "      <td>1836532</td>\n",
       "      <td>21</td>\n",
       "      <td>1353345932493</td>\n",
       "      <td>Mohsen Alizadeh</td>\n",
       "      <td>1551785455310</td>\n",
       "      <td>2059610</td>\n",
       "      <td>14.0</td>\n",
       "    </tr>\n",
       "    <tr>\n",
       "      <th>8</th>\n",
       "      <td>1966854</td>\n",
       "      <td>3</td>\n",
       "      <td>1357824395260</td>\n",
       "      <td>labworxsa</td>\n",
       "      <td>1607685254290</td>\n",
       "      <td>2228670</td>\n",
       "      <td>5.0</td>\n",
       "    </tr>\n",
       "    <tr>\n",
       "      <th>9</th>\n",
       "      <td>1833626</td>\n",
       "      <td>21</td>\n",
       "      <td>1353247966420</td>\n",
       "      <td>Almar Klein</td>\n",
       "      <td>1353267074797</td>\n",
       "      <td>2055834</td>\n",
       "      <td>1.0</td>\n",
       "    </tr>\n",
       "  </tbody>\n",
       "</table>\n",
       "</div>"
      ],
      "text/plain": [
       "        Id  Reputation   CreationDate         DisplayName  LastAccessDate  \\\n",
       "0   237137          36  1261512223193             davrous   1262209129173   \n",
       "1   907595          13  1314098270493                René   1316454773330   \n",
       "2  1869230         435  1354389119783                dan1   1533455867923   \n",
       "3  1861431          75  1354139880027               Bryan   1426906926187   \n",
       "4  1858121          11  1354057590997           RubenatoR   1372184147920   \n",
       "5  1853324           9  1353932012327                 d2h   1364545684757   \n",
       "6  1846334         141  1353631826510  Lewis Boyles-White   1514998297073   \n",
       "7  1836532          21  1353345932493     Mohsen Alizadeh   1551785455310   \n",
       "8  1966854           3  1357824395260           labworxsa   1607685254290   \n",
       "9  1833626          21  1353247966420         Almar Klein   1353267074797   \n",
       "\n",
       "   AccountId  NumPosts  \n",
       "0     580584       1.0  \n",
       "1     799199       6.0  \n",
       "2    2101798      13.0  \n",
       "3    2091763      27.0  \n",
       "4    2087541       3.0  \n",
       "5    2081415       3.0  \n",
       "6    2072099      41.0  \n",
       "7    2059610      14.0  \n",
       "8    2228670       5.0  \n",
       "9    2055834       1.0  "
      ]
     },
     "execution_count": 3,
     "metadata": {},
     "output_type": "execute_result"
    }
   ],
   "source": [
    "users_df.head(10)"
   ]
  },
  {
   "cell_type": "code",
   "execution_count": 4,
   "metadata": {},
   "outputs": [
    {
     "name": "stdout",
     "output_type": "stream",
     "text": [
      "Average Sample Reputation: 236.14\n"
     ]
    }
   ],
   "source": [
    "reps = 0\n",
    "for user in users_df.iterrows():\n",
    "    reps += user[1]['Reputation']\n",
    "\n",
    "avg_sample_rep = reps/users_df.shape[0]    \n",
    "\n",
    "print(f\"Average Sample Reputation: {round(avg_sample_rep, 2)}\")"
   ]
  },
  {
   "cell_type": "code",
   "execution_count": 5,
   "metadata": {},
   "outputs": [
    {
     "data": {
      "text/plain": [
       "2500"
      ]
     },
     "execution_count": 5,
     "metadata": {},
     "output_type": "execute_result"
    }
   ],
   "source": [
    "len(users_df.index)"
   ]
  },
  {
   "cell_type": "code",
   "execution_count": 6,
   "metadata": {},
   "outputs": [
    {
     "data": {
      "image/png": "[encoded data removed]",
      "text/plain": [
       "<Figure size 640x480 with 1 Axes>"
      ]
     },
     "metadata": {},
     "output_type": "display_data"
    }
   ],
   "source": [
    "import pandas as pd\n",
    "from sklearn.cluster import KMeans\n",
    "import matplotlib.pyplot as plt\n",
    "\n",
    "X = users_df[[\"Reputation\", \"NumPosts\"]].values\n",
    "\n",
    "\n",
    "wcss = []\n",
    "for i in range(1, 11):\n",
    "    kmeans = KMeans(n_clusters=i, init='k-means++', max_iter=300, n_init=10, random_state=0)\n",
    "    kmeans.fit(X)\n",
    "    wcss.append(kmeans.inertia_)\n",
    "plt.plot(range(1, 11), wcss)\n",
    "plt.title('Elbow Method')\n",
    "plt.xlabel('Number of clusters')\n",
    "plt.ylabel('WCSS')\n",
    "plt.show()"
   ]
  },
  {
   "cell_type": "code",
   "execution_count": 7,
   "metadata": {},
   "outputs": [
    {
     "name": "stderr",
     "output_type": "stream",
     "text": [
      "/opt/homebrew/Caskroom/miniconda/base/lib/python3.10/site-packages/sklearn/cluster/_kmeans.py:870: FutureWarning: The default value of `n_init` will change from 10 to 'auto' in 1.4. Set the value of `n_init` explicitly to suppress the warning\n",
      "  warnings.warn(\n"
     ]
    },
    {
     "data": {
      "image/png": "[encoded data removed]",
      "text/plain": [
       "<Figure size 640x480 with 1 Axes>"
      ]
     },
     "metadata": {},
     "output_type": "display_data"
    },
    {
     "data": {
      "text/html": [
       "<div>\n",
       "<style scoped>\n",
       "    .dataframe tbody tr th:only-of-type {\n",
       "        vertical-align: middle;\n",
       "    }\n",
       "\n",
       "    .dataframe tbody tr th {\n",
       "        vertical-align: top;\n",
       "    }\n",
       "\n",
       "    .dataframe thead th {\n",
       "        text-align: right;\n",
       "    }\n",
       "</style>\n",
       "<table border=\"1\" class=\"dataframe\">\n",
       "  <thead>\n",
       "    <tr style=\"text-align: right;\">\n",
       "      <th></th>\n",
       "      <th>Reputation</th>\n",
       "      <th>NumPosts</th>\n",
       "    </tr>\n",
       "  </thead>\n",
       "  <tbody>\n",
       "    <tr>\n",
       "      <th>0</th>\n",
       "      <td>130.299114</td>\n",
       "      <td>16.471417</td>\n",
       "    </tr>\n",
       "    <tr>\n",
       "      <th>2</th>\n",
       "      <td>10270.428571</td>\n",
       "      <td>709.214286</td>\n",
       "    </tr>\n",
       "    <tr>\n",
       "      <th>1</th>\n",
       "      <td>61452.000000</td>\n",
       "      <td>3882.500000</td>\n",
       "    </tr>\n",
       "  </tbody>\n",
       "</table>\n",
       "</div>"
      ],
      "text/plain": [
       "     Reputation     NumPosts\n",
       "0    130.299114    16.471417\n",
       "2  10270.428571   709.214286\n",
       "1  61452.000000  3882.500000"
      ]
     },
     "execution_count": 7,
     "metadata": {},
     "output_type": "execute_result"
    }
   ],
   "source": [
    "from sklearn.cluster import KMeans\n",
    "import matplotlib.pyplot as plt\n",
    "\n",
    "# k-means with reputation and numposts\n",
    "data = users_df[['Reputation', 'NumPosts']].values\n",
    "\n",
    "kmeans = KMeans(n_clusters=3)\n",
    "kmeans.fit(data)\n",
    "\n",
    "labels = kmeans.labels_\n",
    "users_df['Cluster'] = labels\n",
    "\n",
    "labels = kmeans.labels_\n",
    "centers = kmeans.cluster_centers_\n",
    "\n",
    "# scatter plot dis bih\n",
    "plt.scatter(data[:, 0], data[:, 1], c=labels)\n",
    "\n",
    "# plot center of each group\n",
    "plt.scatter(centers[:, 0], centers[:, 1], marker='+', s=25, color='red')\n",
    "\n",
    "plt.xlabel('Reputation')\n",
    "plt.ylabel('NumPosts')\n",
    "plt.show()\n",
    "\n",
    "\n",
    "analysis_df = pd.DataFrame(columns=[\"Reputation\", \"NumPosts\"])\n",
    "\n",
    "for label in set(labels):\n",
    "    cluster = users_df[users_df['Cluster'] == label]\n",
    "    new_row = pd.DataFrame([{'Reputation': cluster[\"Reputation\"].mean(), 'NumPosts': cluster[\"NumPosts\"].mean()}])\n",
    "    analysis_df = pd.concat([analysis_df, new_row], ignore_index=True)\n",
    "\n",
    "analysis_df.sort_values(\"Reputation\", ascending=True).head(20)\n"
   ]
  }
 ],
 "metadata": {
  "kernelspec": {
   "display_name": "base",
   "language": "python",
   "name": "python3"
  },
  "language_info": {
   "codemirror_mode": {
    "name": "ipython",
    "version": 3
   },
   "file_extension": ".py",
   "mimetype": "text/x-python",
   "name": "python",
   "nbconvert_exporter": "python",
   "pygments_lexer": "ipython3",
   "version": "3.10.9"
  },
  "orig_nbformat": 4
 },
 "nbformat": 4,
 "nbformat_minor": 2
}
