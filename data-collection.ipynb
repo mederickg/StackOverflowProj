{
 "cells": [
  {
   "cell_type": "code",
   "execution_count": 10,
   "metadata": {},
   "outputs": [],
   "source": [
    "import requests\n",
    "import time\n",
    "import json\n",
    "\n",
    "# helper functions for making queries\n",
    "\n",
    "AUTH_TOKEN = \"03AKH6MRGfsxcnXXHz42b-rVmvIdqyihro1nLGOC7M7__kVGYhi_RrRWbmly-9Gw9WjVJBGcC56pO9phaU2J4N4d19wcdWMwEoMbsOUtjwOBAd5zMNvCgJ3lqCSBD5TjUQbceWZ9_NEhzPhdcvOwCQX43oWccNJlb8K-cONdhLUfz3ATAIo1DwJJ7xJ1-8zBWXEk8KSUV_kJv8Dc7X0jXHP-6stRkBqCy7vb_2N6iaBkZiN6arjmAv_dLAuEAociG-omwAHY-SObhs7q2SBGRHRs1FEW-J5CmEN6YSavK5XLH8TbfJ8pwhjNisNkk6B9eZTOSrvUj5FFVsdpm_JRz93-dm-RCKVuYY7vU32kitQpvLXHIJAEqttQKFBwmuo8I0DNDMpHhREUGfamPnB5a0aCeVzy4P7aLt4iSuZgCNKv-9mPMY7lYgvdBHxohxzKipY5izVfnTNLuHGPyEuFndiDhWcqv5LVt6HItwJibkWnOFiTStqW9kBSzjmkbBiuogzvZPdThH4LHxhqWm4i4LNNwnjfPe3ndyDw\"\n",
    "SLEEP_T = 2\n",
    "\n",
    "postQueryEndpoint = \"https://data.stackexchange.com/query/save/1/1727672\"\n",
    "getQueryEndpoint = \"https://data.stackexchange.com/query/job/jobId\"\n",
    "\n",
    "\n",
    "def saveAsJson(fileName, content):\n",
    "    # Serializing json\n",
    "    json_object = json.dumps(content, indent=4)\n",
    " \n",
    "    # Writing to sample.json\n",
    "    with open(fileName, \"w\") as outfile:\n",
    "        outfile.write(json_object)\n",
    "\n",
    "def makeQuery(query, fileName=None):\n",
    "    query = {\n",
    "        \"sql\": query,\n",
    "        \"g-recaptcha-response\": AUTH_TOKEN\n",
    "    }\n",
    "\n",
    "    # create initial query\n",
    "    response = requests.post(postQueryEndpoint, data = query)\n",
    "    response = response.json()\n",
    "\n",
    "    print(response)\n",
    "\n",
    "    running = response.get(\"running\")\n",
    "    getEndpoint = getQueryEndpoint\n",
    "\n",
    "    # if this is a larger query, modify the get endpoint\n",
    "    if running:\n",
    "        getEndpoint = getEndpoint.replace(\"jobId\", response.get(\"job_id\"))\n",
    "\n",
    "    # continue checking every interval for results\n",
    "    while running:\n",
    "        time.sleep(SLEEP_T)\n",
    "        response = requests.get(getEndpoint, params = {\"_\": time.time()}).json()\n",
    "        running = response.get(\"running\")\n",
    "\n",
    "    # save content to json if fileName provided\n",
    "    content = response.get(\"resultSets\")\n",
    "    if fileName: saveAsJson(fileName, content)\n",
    "\n",
    "    return content\n"
   ]
  },
  {
   "cell_type": "code",
   "execution_count": null,
   "metadata": {},
   "outputs": [],
   "source": [
    "# making queries\n",
    "\n",
    "makeQuery(\n",
    "\"\"\" \n",
    "SELECT * FROM PostHistory WHERE UserId = 500;\n",
    "\"\"\",\n",
    "\"test.json\"\n",
    ")"
   ]
  }
 ],
 "metadata": {
  "kernelspec": {
   "display_name": "base",
   "language": "python",
   "name": "python3"
  },
  "language_info": {
   "codemirror_mode": {
    "name": "ipython",
    "version": 3
   },
   "file_extension": ".py",
   "mimetype": "text/x-python",
   "name": "python",
   "nbconvert_exporter": "python",
   "pygments_lexer": "ipython3",
   "version": "3.10.9"
  },
  "orig_nbformat": 4
 },
 "nbformat": 4,
 "nbformat_minor": 2
}
